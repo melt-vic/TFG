{
  "nbformat": 4,
  "nbformat_minor": 0,
  "metadata": {
    "colab": {
      "provenance": []
    },
    "kernelspec": {
      "name": "python3",
      "display_name": "Python 3"
    },
    "language_info": {
      "name": "python"
    }
  },
  "cells": [
    {
      "cell_type": "code",
      "execution_count": 1,
      "metadata": {
        "colab": {
          "base_uri": "https://localhost:8080/"
        },
        "id": "KgTubZPzGUBu",
        "outputId": "f928e254-153e-47b2-fb16-e16e078b6d97"
      },
      "outputs": [
        {
          "output_type": "stream",
          "name": "stdout",
          "text": [
            "Collecting rdflib\n",
            "  Downloading rdflib-7.1.1-py3-none-any.whl.metadata (11 kB)\n",
            "Collecting isodate<1.0.0,>=0.7.2 (from rdflib)\n",
            "  Downloading isodate-0.7.2-py3-none-any.whl.metadata (11 kB)\n",
            "Requirement already satisfied: pyparsing<4,>=2.1.0 in /usr/local/lib/python3.10/dist-packages (from rdflib) (3.2.0)\n",
            "Downloading rdflib-7.1.1-py3-none-any.whl (562 kB)\n",
            "\u001b[2K   \u001b[90m━━━━━━━━━━━━━━━━━━━━━━━━━━━━━━━━━━━━━━━━\u001b[0m \u001b[32m562.4/562.4 kB\u001b[0m \u001b[31m13.5 MB/s\u001b[0m eta \u001b[36m0:00:00\u001b[0m\n",
            "\u001b[?25hDownloading isodate-0.7.2-py3-none-any.whl (22 kB)\n",
            "Installing collected packages: isodate, rdflib\n",
            "Successfully installed isodate-0.7.2 rdflib-7.1.1\n"
          ]
        }
      ],
      "source": [
        "!pip install rdflib\n",
        "\n",
        "from rdflib import Graph, Namespace, URIRef, Literal\n",
        "from rdflib.namespace import RDF, XSD\n",
        "\n",
        "import csv\n",
        "import re\n",
        "from urllib.parse import quote"
      ]
    },
    {
      "cell_type": "code",
      "source": [
        "path_csv = '/content/300356-0-monumentos-ciudad-madrid.csv'\n",
        "path_ttl = '/content/monuments.ttl'\n",
        "\n",
        "# Crea grafo a partir del fichero con la estructura de la ontología\n",
        "g = Graph()\n",
        "g.parse(path_ttl, format='turtle')\n",
        "\n",
        "print(f\"Tripletas cargadas: {len(g)}\")\n",
        "\n",
        "# Espacio de nombres\n",
        "NS = Namespace(\"http://www.semanticweb.org/vic/ontologies/2024/10/monuments/\")\n",
        "\n",
        "# Mapeo de subtipos de monumentos\n",
        "subtype_mapping = {\n",
        "    \"Escultura conceptual o abstracta\": NS.AbstractSculpture,\n",
        "    \"Grupo Escultórico\": NS.SculpturalGroup,\n",
        "    \"Elemento conmemorativo, Lápida\": NS.MemorialElement,\n",
        "    \"Estatua\": NS.Statue,\n",
        "    \"Puente, construcción civil\": NS.CivilConstruction,\n",
        "    \"Fuente, Estanque, Lámina de agua\": NS.Fountain,\n",
        "    \"Elemento de ornamentación\": NS.Ornamentation,\n",
        "    \"Edificación singular\": NS.UniqueBuilding,\n",
        "    \"Puerta, Arco triunfal\": NS.Gate\n",
        "}\n",
        "\n",
        "# Carga de distritos\n",
        "def load_districts(csv_reader):\n",
        "    districts = set()\n",
        "    for row in csv_reader:\n",
        "        district_name = row['DISTRITO'].strip() if row['DISTRITO'] else None\n",
        "        if district_name and district_name not in districts:\n",
        "            district_uri = URIRef(NS[f\"District_{district_name.replace(' ', '_')}\"])\n",
        "            g.add((district_uri, RDF.type, NS.District))\n",
        "            g.add((district_uri, NS.name, Literal(district_name, datatype=XSD.string)))\n",
        "            g.add((city_uri, NS.hasDistrict, district_uri))\n",
        "            g.add((district_uri, NS.isDistrictOf, city_uri))\n",
        "            districts.add(district_name)\n",
        "\n",
        "# Carga de barrios\n",
        "def load_neighborhoods(csv_reader):\n",
        "    neighborhoods = set()\n",
        "    for row in csv_reader:\n",
        "        district_name = row['DISTRITO'].strip() if row['DISTRITO'] else None\n",
        "        neighborhood_name = row['BARRIO'].strip() if row['BARRIO'] else None\n",
        "\n",
        "        if neighborhood_name and district_name:\n",
        "            district_uri = URIRef(NS[f\"District_{district_name.replace(' ', '_')}\"])\n",
        "            neighborhood_normalized = neighborhood_name.replace(' ', '_')\n",
        "            if neighborhood_name not in neighborhoods:\n",
        "                neighborhood_uri = URIRef(NS[f\"Neighborhood_{neighborhood_normalized}\"])\n",
        "                g.add((neighborhood_uri, RDF.type, NS.Neighborhood))\n",
        "                g.add((neighborhood_uri, NS.name, Literal(neighborhood_name, datatype=XSD.string)))\n",
        "                g.add((district_uri, NS.hasNeighborhood, neighborhood_uri))\n",
        "                g.add((neighborhood_uri, NS.isNeighborhoodOf, district_uri))\n",
        "                neighborhoods.add(neighborhood_name)\n",
        "\n",
        "# Carga de monumentos\n",
        "def load_monuments(csv_reader):\n",
        "    authors_set = set()\n",
        "    for row in csv_reader:\n",
        "        # Determina clase de monumento\n",
        "        monument_class = subtype_mapping.get(row['SUBTIPO'], NS.Monument)\n",
        "        monument_uri = URIRef(NS[f\"{monument_class.split('/')[-1]}_{row['PK']}\"])\n",
        "        g.add((monument_uri, RDF.type, monument_class))\n",
        "\n",
        "        # Añade propiedades\n",
        "        g.add((monument_uri, NS.PK, Literal(row['PK'], datatype=XSD.string)))\n",
        "        g.add((monument_uri, NS.name, Literal(row['NOMBRE'], datatype=XSD.string)))\n",
        "        g.add((monument_uri, NS.description, Literal(row['DESCRIPCION'], datatype=XSD.string)))\n",
        "        g.add((monument_uri, NS.date, Literal(row['FECHA'], datatype=XSD.string)))\n",
        "        if row['CODIGO-POSTAL']:\n",
        "          g.add((monument_uri, NS.postalCode, Literal(row['CODIGO-POSTAL'], datatype=XSD.string)))\n",
        "\n",
        "        address_parts = [\n",
        "            row['CLASE-VIAL'].strip() if row['CLASE-VIAL'] else \"\",\n",
        "            row['NOMBRE-VIA'].strip() if row['NOMBRE-VIA'] else \"\",\n",
        "            row['NUM'].strip() if row['NUM'] else \"\"\n",
        "        ]\n",
        "        address = \" \".join(part for part in address_parts if part).strip()\n",
        "        if address != \"\":\n",
        "            g.add((monument_uri, NS.address, Literal(address, datatype=XSD.string)))\n",
        "\n",
        "        # Relación con la ciudad\n",
        "        g.add((monument_uri, NS.isLocatedInCity, city_uri))\n",
        "        g.add((city_uri, NS.cityHasMonument, monument_uri))\n",
        "\n",
        "        # Relación con barrios y distritos\n",
        "        district_name = row['DISTRITO'].strip() if row['DISTRITO'] else None\n",
        "        neighborhood_name = row['BARRIO'].strip() if row['BARRIO'] else None\n",
        "\n",
        "        if district_name:\n",
        "            district_uri = URIRef(NS[f\"District_{district_name.replace(' ', '_')}\"])\n",
        "            g.add((monument_uri, NS.isLocatedInDistrict, district_uri))\n",
        "            g.add((district_uri, NS.districtHasMonument, monument_uri))\n",
        "\n",
        "        if neighborhood_name:\n",
        "            neighborhood_uri = URIRef(NS[f\"Neighborhood_{neighborhood_name.replace(' ', '_')}\"])\n",
        "            g.add((monument_uri, NS.isLocatedInNeighborhood, neighborhood_uri))\n",
        "            g.add((neighborhood_uri, NS.neighborhoodHasMonument, monument_uri))\n",
        "\n",
        "        # Carga de autores y su relación con el monumento\n",
        "        if row['AUTORES']:\n",
        "          authors = row['AUTORES'].split(\" - \")\n",
        "          for author in authors:\n",
        "            author_clean = author.strip().replace(' ', '_')\n",
        "            if author_clean not in authors_set:\n",
        "              author_uri = URIRef(NS[f\"Author_{author_clean}\"])\n",
        "              g.add((author_uri, RDF.type, NS.Author))\n",
        "              g.add((author_uri, NS.name, Literal(author.strip(), datatype=XSD.string)))\n",
        "              authors_set.add(author_clean)\n",
        "\n",
        "            g.add((author_uri, NS.isAuthorOf, monument_uri))\n",
        "            g.add((monument_uri, NS.hasAuthor, author_uri))\n",
        "\n",
        "        # Carga de geometría y su relación con el monumento\n",
        "        geometry_uri = URIRef(NS[f\"Geometry_{row['PK']}\"])\n",
        "        g.add((geometry_uri, RDF.type, NS.Geometry))\n",
        "        g.add((geometry_uri, NS.geo_asWKT, Literal(f\"POINT({row['LONGITUD']} {row['LATITUD']})\", datatype=XSD.string)))\n",
        "        g.add((monument_uri, NS.hasGeometry, geometry_uri))\n",
        "\n",
        "    print(f\"Direcciones: {addresses}\")\n",
        "\n",
        "# Crea ciudad y división administrativa\n",
        "city_uri = URIRef(NS[\"City_Madrid\"])\n",
        "admin_div_uri = URIRef(NS[\"AdministrativeDivision_Madrid\"])\n",
        "g.add((city_uri, RDF.type, NS.City))\n",
        "g.add((city_uri, NS.name, Literal(\"Madrid\", datatype=XSD.string)))\n",
        "g.add((admin_div_uri, RDF.type, NS.AdministrativeDivision))\n",
        "g.add((admin_div_uri, NS.name, Literal(\"Madrid\", datatype=XSD.string)))\n",
        "g.add((admin_div_uri, NS.hasCity, city_uri))\n",
        "g.add((city_uri, NS.isCityOf, admin_div_uri))\n",
        "\n",
        "# Ejecutar las funciones\n",
        "with open(path_csv, 'r', encoding='latin-1') as csvfile:\n",
        "    reader = csv.DictReader(csvfile, delimiter=';')\n",
        "    load_districts(reader)\n",
        "\n",
        "with open(path_csv, 'r', encoding='latin-1') as csvfile:\n",
        "    reader = csv.DictReader(csvfile, delimiter=';')\n",
        "    load_neighborhoods(reader)\n",
        "\n",
        "with open(path_csv, 'r', encoding='latin-1') as csvfile:\n",
        "    reader = csv.DictReader(csvfile, delimiter=';')\n",
        "    load_monuments(reader)\n",
        "\n",
        "# Guardar el resultado\n",
        "print(f\"Tripletas después de la importación: {len(g)}\")\n",
        "g.serialize(destination=\"/content/populated_monuments.ttl\", format=\"turtle\")\n"
      ],
      "metadata": {
        "colab": {
          "base_uri": "https://localhost:8080/"
        },
        "id": "tXc4pWr8GufC",
        "outputId": "d3c301f1-5518-4eaa-9557-c2f2fa959a5f"
      },
      "execution_count": 20,
      "outputs": [
        {
          "output_type": "stream",
          "name": "stdout",
          "text": [
            "Tripletas cargadas: 177\n",
            "Direcciones: 0\n",
            "Tripletas después de la importación: 31647\n"
          ]
        },
        {
          "output_type": "execute_result",
          "data": {
            "text/plain": [
              "<Graph identifier=Na688d71d170042348766e3748b3f7f19 (<class 'rdflib.graph.Graph'>)>"
            ]
          },
          "metadata": {},
          "execution_count": 20
        }
      ]
    }
  ]
}