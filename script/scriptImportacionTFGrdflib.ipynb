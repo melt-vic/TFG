{
  "nbformat": 4,
  "nbformat_minor": 0,
  "metadata": {
    "colab": {
      "provenance": []
    },
    "kernelspec": {
      "name": "python3",
      "display_name": "Python 3"
    },
    "language_info": {
      "name": "python"
    }
  },
  "cells": [
    {
      "cell_type": "code",
      "execution_count": null,
      "metadata": {
        "colab": {
          "base_uri": "https://localhost:8080/"
        },
        "id": "KpkAGJtHJwvI",
        "outputId": "99395cce-28b2-4d8b-920c-476fe774a950"
      },
      "outputs": [
        {
          "output_type": "stream",
          "name": "stdout",
          "text": [
            "Requirement already satisfied: rdflib in /usr/local/lib/python3.10/dist-packages (7.1.1)\n",
            "Requirement already satisfied: isodate<1.0.0,>=0.7.2 in /usr/local/lib/python3.10/dist-packages (from rdflib) (0.7.2)\n",
            "Requirement already satisfied: pyparsing<4,>=2.1.0 in /usr/local/lib/python3.10/dist-packages (from rdflib) (3.2.0)\n"
          ]
        }
      ],
      "source": [
        "!pip install rdflib\n",
        "\n",
        "from rdflib import Graph, Namespace, URIRef, Literal\n",
        "from rdflib.namespace import RDF, XSD\n",
        "\n",
        "import csv"
      ]
    },
    {
      "cell_type": "code",
      "source": [
        "path_csv = '/content/300356-0-monumentos-ciudad-madrid.csv'\n",
        "path_ttl = '/content/monuments.ttl'\n",
        "\n",
        "g = Graph()\n",
        "\n",
        "g.parse(path_ttl, format='turtle')\n",
        "\n",
        "print(f\"Tripletas cargadas: {len(g)}\")\n",
        "\n",
        "NS = Namespace(\"http://www.semanticweb.org/vic/ontologies/2024/10/monuments/\")\n",
        "\n",
        "subtype_mapping = {\n",
        "    \"Escultura conceptual o abstracta\": NS.AbstractSculpture,\n",
        "    \"Grupo Escultórico\": NS.SculpturalGroup,\n",
        "    \"Elemento conmemorativo, Lápida\": NS.MemorialElement,\n",
        "    \"Estatua\": NS.Statue,\n",
        "    \"Puente, construcción civil\": NS.CivilConstruction,\n",
        "    \"Fuente, Estanque, Lámina de agua\": NS.Fountain,\n",
        "    \"Elemento de ornamentación\": NS.Ornamentation,\n",
        "    \"Edificación singular\": NS.UniqueBuilding,\n",
        "    \"Puerta, Arco triunfal\": NS.Gate\n",
        "}\n",
        "\n",
        "with open(path_csv, 'r', encoding='latin-1') as csvfile:\n",
        "    reader = csv.DictReader(csvfile, delimiter=';')\n",
        "    for row in reader:\n",
        "        # Determinar la clase del monumento\n",
        "        monument_class = subtype_mapping.get(row['SUBTIPO'], NS.Monument)  # Por defecto, Monument\n",
        "        # Crear un URI único para el monumento\n",
        "        monument_uri = URIRef(NS[f\"{monument_class}_{row['PK']}\"])\n",
        "\n",
        "        g.add((monument_uri, RDF.type, monument_class))\n",
        "\n",
        "        # Añadir propiedades\n",
        "        g.add((monument_uri, NS.PK, Literal(row['PK'], datatype=XSD.string)))\n",
        "        g.add((monument_uri, NS.name, Literal(row['NOMBRE'], datatype=XSD.string)))\n",
        "        g.add((monument_uri, NS.description, Literal(row['DESCRIPCION'], datatype=XSD.string)))\n",
        "        g.add((monument_uri, NS.date, Literal(row['FECHA'], datatype=XSD.string)))\n",
        "\n",
        "        # Añadir geometría\n",
        "        geometry_uri = URIRef(NS[f\"Geometry_{row['PK']}\"])\n",
        "        g.add((geometry_uri, RDF.type, NS.Geometry))\n",
        "        g.add((geometry_uri, NS.geo_asWKT, Literal(f\"POINT({row['LONGITUD']} {row['LATITUD']})\", datatype=XSD.string)))\n",
        "        g.add((monument_uri, NS.hasGeometry, geometry_uri))\n",
        "\n",
        "         # Añadir información de autores (si hay múltiples, separarlos)\n",
        "        if row['AUTORES']:\n",
        "            authors = row['AUTORES'].split(\" - \")\n",
        "            for author in authors:\n",
        "                author_uri = URIRef(NS[f\"Author_{author.replace(' ', '_')}\"])\n",
        "                g.add((author_uri, RDF.type, NS.Author))\n",
        "                g.add((author_uri, NS.name, Literal(author.strip(), datatype=XSD.string)))\n",
        "                g.add((monument_uri, NS.author, author_uri))\n",
        "\n",
        "        # Añadir URLs (PDF y contenido web)\n",
        "        if row['PDF']:\n",
        "            g.add((monument_uri, NS.infoURL, Literal(row['PDF'], datatype=XSD.anyURI)))\n",
        "        if row['CONTENT-URL']:\n",
        "            g.add((monument_uri, NS.infoURL, Literal(row['CONTENT-URL'], datatype=XSD.anyURI)))\n",
        "\n",
        "\n",
        "print(f\"Tripletas después de la importación: {len(g)}\")\n",
        "\n",
        "g.serialize(destination=\"/content/populated_monuments.ttl\", format=\"turtle\")\n"
      ],
      "metadata": {
        "colab": {
          "base_uri": "https://localhost:8080/"
        },
        "id": "rpT6tAx5QLP1",
        "outputId": "2ec3dccd-20ae-4397-80a5-7689885cb40e"
      },
      "execution_count": null,
      "outputs": [
        {
          "output_type": "stream",
          "name": "stdout",
          "text": [
            "Tripletas cargadas: 161\n",
            "Tripletas después de la importación: 21032\n"
          ]
        },
        {
          "output_type": "execute_result",
          "data": {
            "text/plain": [
              "<Graph identifier=Nc5aecb8d3bb14f0aa466504fee3f4997 (<class 'rdflib.graph.Graph'>)>"
            ]
          },
          "metadata": {},
          "execution_count": 8
        }
      ]
    }
  ]
}